{
 "cells": [
  {
   "cell_type": "markdown",
   "metadata": {},
   "source": [
    "1.使用梯度下降求解\n",
    "$\\mathrm{L}=\\left(\\theta_{1}-3\\right)^{2}+\\left(2 \\theta_{2}-5\\right)^{2}$的最小值点"
   ]
  },
  {
   "cell_type": "code",
   "execution_count": null,
   "metadata": {},
   "outputs": [],
   "source": [
    "theta1 , theta2 = 0.0,0.0\n",
    "alpha = 0.1\n",
    "for i in range(100):\n",
    "    theta1 = theta1 - alpha*2*(theta1-3)\n",
    "    theta2 = theta2 - alpha*2*(2*theta2 -5)*2\n",
    "    print(theta1,theta2)"
   ]
  },
  {
   "cell_type": "markdown",
   "metadata": {},
   "source": [
    "2. 使用梯度下降求解\n",
    "$\\mathrm{L}=\\left(\\theta_{1}-3\\right)^{2}\\left(2 \\theta_{2}-5\\right)^{2}$的最小值点"
   ]
  },
  {
   "cell_type": "code",
   "execution_count": null,
   "metadata": {},
   "outputs": [],
   "source": [
    "theta1 , theta2 = 10.0,4.0\n",
    "alpha = 0.01\n",
    "for i in range(100):\n",
    "    theta1 = theta1 - alpha*2*(theta1-3)*(2*theta2-5)*(2*theta2-5)\n",
    "    theta2 = theta2 - alpha*2*(2*theta2 -5)*2*(theta1-3)*(theta1-3)\n",
    "    print(theta1,theta2)"
   ]
  },
  {
   "cell_type": "markdown",
   "metadata": {},
   "source": [
    "3. 使用梯度下降实现最小二乘法"
   ]
  },
  {
   "cell_type": "code",
   "execution_count": 30,
   "metadata": {},
   "outputs": [],
   "source": [
    "import numpy as np\n",
    "import pandas as pd\n",
    "from sklearn.linear_model import LinearRegression"
   ]
  },
  {
   "cell_type": "code",
   "execution_count": 31,
   "metadata": {},
   "outputs": [
    {
     "data": {
      "text/plain": [
       "LinearRegression(copy_X=True, fit_intercept=True, n_jobs=1, normalize=False)"
      ]
     },
     "execution_count": 31,
     "metadata": {},
     "output_type": "execute_result"
    }
   ],
   "source": [
    "data = pd.read_csv('height_train.csv')\n",
    "data['constant'] = 1\n",
    "model1 = LinearRegression()\n",
    "model1.fit(data.loc[:,['father_height','mother_height','boy_dummy']].values,data.child_height.values)"
   ]
  },
  {
   "cell_type": "code",
   "execution_count": 32,
   "metadata": {
    "scrolled": true
   },
   "outputs": [
    {
     "name": "stdout",
     "output_type": "stream",
     "text": [
      "[0.23959427 0.25013358 0.10030806] 0.8274299645517075\n"
     ]
    }
   ],
   "source": [
    "print(model1.coef_, model1.intercept_)"
   ]
  },
  {
   "cell_type": "code",
   "execution_count": null,
   "metadata": {},
   "outputs": [],
   "source": []
  },
  {
   "cell_type": "code",
   "execution_count": null,
   "metadata": {},
   "outputs": [],
   "source": [
    "import numpy as np\n",
    "import pandas as pd"
   ]
  },
  {
   "cell_type": "code",
   "execution_count": 27,
   "metadata": {},
   "outputs": [],
   "source": [
    "def myLinearRegression(X,y,alpha,n_rounds):\n",
    "    n_features = X.shape[1]\n",
    "    beta = np.array([0.0]*n_features)\n",
    "    for i in range(n_rounds):\n",
    "        \n",
    "        #计算 epsilon\n",
    "        epsilon = y\n",
    "        for j in range(n_features):\n",
    "            epsilon = epsilon - beta[j]*X[:,j]\n",
    "            \n",
    "        #更新 beta\n",
    "        for j in range(n_features):\n",
    "            gradient = -np.mean(epsilon*X[:,j])\n",
    "            beta[j] = beta[j] - alpha*gradient\n",
    "    \n",
    "    return beta"
   ]
  },
  {
   "cell_type": "code",
   "execution_count": 28,
   "metadata": {},
   "outputs": [
    {
     "data": {
      "text/plain": [
       "array([0.24430801, 0.25516176, 0.10030543, 0.81107587])"
      ]
     },
     "execution_count": 28,
     "metadata": {},
     "output_type": "execute_result"
    }
   ],
   "source": [
    "# 确认实现的LinearRegression函数得到的结果与sklearn中的LinearRegression的结果相同\n",
    "data = pd.read_csv('height_train.csv')\n",
    "data['constant'] = 1\n",
    "myLinearRegression(data.loc[:,['father_height','mother_height','boy_dummy','constant']].values,data.child_height.values,0.1,100000)"
   ]
  },
  {
   "cell_type": "markdown",
   "metadata": {},
   "source": [
    "作业： 实现线性回归的代码，发布到各人Github\n",
    "\n",
    "选作：\n",
    "1. 收敛条件的判断\n",
    "2. 学习率的选择\n",
    "3. 类的形式"
   ]
  },
  {
   "cell_type": "code",
   "execution_count": null,
   "metadata": {},
   "outputs": [],
   "source": []
  },
  {
   "cell_type": "code",
   "execution_count": null,
   "metadata": {},
   "outputs": [],
   "source": []
  }
 ],
 "metadata": {
  "kernelspec": {
   "display_name": "Python 3",
   "language": "python",
   "name": "python3"
  },
  "language_info": {
   "codemirror_mode": {
    "name": "ipython",
    "version": 3
   },
   "file_extension": ".py",
   "mimetype": "text/x-python",
   "name": "python",
   "nbconvert_exporter": "python",
   "pygments_lexer": "ipython3",
   "version": "3.6.5"
  }
 },
 "nbformat": 4,
 "nbformat_minor": 2
}
